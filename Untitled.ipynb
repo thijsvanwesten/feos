{
 "cells": [
  {
   "cell_type": "code",
   "execution_count": 1,
   "id": "2f18eebd-4da7-4929-8fb8-82fe3b21ecd1",
   "metadata": {},
   "outputs": [],
   "source": [
    "import fluidproperties as fp"
   ]
  },
  {
   "cell_type": "code",
   "execution_count": null,
   "id": "c1b877de-833b-46ff-9b05-799528ba9062",
   "metadata": {},
   "outputs": [],
   "source": [
    "fp."
   ]
  }
 ],
 "metadata": {
  "kernelspec": {
   "display_name": "virtualenv",
   "language": "python",
   "name": "virtualenv"
  },
  "language_info": {
   "codemirror_mode": {
    "name": "ipython",
    "version": 3
   },
   "file_extension": ".py",
   "mimetype": "text/x-python",
   "name": "python",
   "nbconvert_exporter": "python",
   "pygments_lexer": "ipython3",
   "version": "3.12.7"
  }
 },
 "nbformat": 4,
 "nbformat_minor": 5
}
