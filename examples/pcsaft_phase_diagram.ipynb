{
 "cells": [
  {
   "cell_type": "markdown",
   "metadata": {},
   "source": [
    "# Pure substance phase diagrams\n",
    "\n",
    "## Goal of this notebook\n",
    "\n",
    "- Learn how to generate and work with phase diagrams.\n",
    "- Learn what `PhaseEquilibrium` objects are and how to use them."
   ]
  },
  {
   "cell_type": "code",
   "execution_count": 1,
   "metadata": {},
   "outputs": [],
   "source": [
    "from feos.si import *\n",
    "from feos.pcsaft import *\n",
    "from feos.eos import *\n",
    "\n",
    "import numpy as np\n",
    "import pandas as pd\n",
    "import matplotlib.pyplot as plt\n",
    "import seaborn as sns\n",
    "\n",
    "sns.set_context('talk')\n",
    "sns.set_palette('Dark2')\n",
    "sns.set_style('ticks')\n",
    "colors = sns.palettes.color_palette('Dark2', 8)"
   ]
  },
  {
   "cell_type": "markdown",
   "metadata": {},
   "source": [
    "## Read parameters from json for a single substance and generate `PcSaft` object"
   ]
  },
  {
   "cell_type": "code",
   "execution_count": 3,
   "metadata": {},
   "outputs": [
    {
     "data": {
      "text/markdown": [
       "|component|molarweight|$m$|$\\sigma$|$\\varepsilon$|$\\mu$|$Q$|$\\kappa_{AB}$|$\\varepsilon_{AB}$|$N_A$|$N_B$|$N_C$|\n",
       "|-|-|-|-|-|-|-|-|-|-|-|-|\n",
       "|hexane|86.177|3.0576|3.7983|236.77|0|0|0|0|0|0|0|"
      ],
      "text/plain": [
       "<PcSaftParameters at 0x7fe8d1644370>"
      ]
     },
     "execution_count": 3,
     "metadata": {},
     "output_type": "execute_result"
    }
   ],
   "source": [
    "parameters = PcSaftParameters.from_json(\n",
    "    ['hexane'], \n",
    "    '../parameters/pcsaft/gross2001.json'\n",
    ")\n",
    "parameters"
   ]
  },
  {
   "cell_type": "code",
   "execution_count": 4,
   "metadata": {},
   "outputs": [],
   "source": [
    "pcsaft = EquationOfState.pcsaft(parameters)"
   ]
  },
  {
   "cell_type": "markdown",
   "metadata": {
    "tags": []
   },
   "source": [
    "## The `PhaseDiagram` object\n",
    "\n",
    "A `PhaseDiagram` object contains multiple thermodyanmic states at phase equilibrium.\n",
    "**For a single substance** it can be constructed via the `PhaseDiagram.pure` method by providing \n",
    "\n",
    "- an equation of state,\n",
    "- the minimum temperature, and\n",
    "- the number of points to compute.\n",
    "\n",
    "The points are evenly distributed between the defined minimum temperature and the critical temperature which is either computed (default) or can be provided via the `critical_temperature` argument.\n",
    "\n",
    "Furthermore, we can define options for the numerics:\n",
    "- `max_iter` to define the maximum number of iterations for the phase equilibrium calculations, and\n",
    "- `tol` to set the tolerance used for deterimation of phase equilibria.\n",
    "\n",
    "A `Verbosity` object can be provided via the `verbosity` argument to print intermediate calculations to the screen.\n",
    "\n",
    "Starting from the minimum temperature, phase equilibria are computed in sequence using prior results (i.e. at prior temperature) as input for the next iteration."
   ]
  },
  {
   "cell_type": "code",
   "execution_count": 5,
   "metadata": {},
   "outputs": [],
   "source": [
    "phase_diagram = PhaseDiagram.pure(pcsaft, min_temperature=200*KELVIN, npoints=501)"
   ]
  },
  {
   "cell_type": "code",
   "execution_count": 6,
   "metadata": {},
   "outputs": [
    {
     "data": {
      "text/markdown": [
       "|temperature|density|\n",
       "|-|-|\n",
       "|200.00000 K|12.21572 mmol/m³|"
      ],
      "text/plain": [
       "T = 200.00000 K, ρ = 12.21572 mmol/m³"
      ]
     },
     "execution_count": 6,
     "metadata": {},
     "output_type": "execute_result"
    }
   ],
   "source": [
    "phase_diagram.vapor[0]"
   ]
  },
  {
   "cell_type": "markdown",
   "metadata": {},
   "source": [
    "### Stored information\n",
    "\n",
    "A `PhaseDiagram` object contains the following *fields*:\n",
    "\n",
    "- `states`: a list (with length of `npoints`) of `PhaseEquilibrium` objects at the different temperatures,\n",
    "- `vapor` and `liquid`: so-called `StateVec` objects that can be used to compute properties for the vapor and liquid phase, respectively.\n",
    "\n",
    "The `to_dict` *method* can be used to conveniently generate a `pandas.DataFrame` object (see below)."
   ]
  },
  {
   "cell_type": "markdown",
   "metadata": {},
   "source": [
    "### Building a `pandas.DataFrame`: the `to_dict` method\n",
    "\n",
    "\n",
    "The `PhaseDiagramPure` object contains some physical properties (such as densities, temperatures and pressures) as well as the `PhaseEquilibrium` objects at each temperature.\n",
    "\n",
    "Before we take a look at these objects, a useful tool when working with phase diagrams is the `to_dict` method. It generates a Python dictionary of some properties (with hard-coded units, see the docstring of `to_dict`). This dictionary can readily be used to generate a `pandas.DataFrame`."
   ]
  },
  {
   "cell_type": "code",
   "execution_count": 9,
   "metadata": {},
   "outputs": [
    {
     "data": {
      "text/plain": [
       "'/mnt/c/Users/Reimer/Documents/feos_thijs/feos/examples'"
      ]
     },
     "execution_count": 9,
     "metadata": {},
     "output_type": "execute_result"
    }
   ],
   "source": [
    "pwd"
   ]
  },
  {
   "cell_type": "code",
   "execution_count": 7,
   "metadata": {},
   "outputs": [
    {
     "name": "stderr",
     "output_type": "stream",
     "text": [
      "thread '<unnamed>' panicked at 'No ideal gas model initialized!', src/eos.rs:47:22\n",
      "note: run with `RUST_BACKTRACE=1` environment variable to display a backtrace\n"
     ]
    },
    {
     "ename": "PanicException",
     "evalue": "No ideal gas model initialized!",
     "output_type": "error",
     "traceback": [
      "\u001b[0;31m---------------------------------------------------------------------------\u001b[0m",
      "\u001b[0;31mPanicException\u001b[0m                            Traceback (most recent call last)",
      "Cell \u001b[0;32mIn[7], line 1\u001b[0m\n\u001b[0;32m----> 1\u001b[0m df \u001b[38;5;241m=\u001b[39m pd\u001b[38;5;241m.\u001b[39mDataFrame(\u001b[43mphase_diagram\u001b[49m\u001b[38;5;241;43m.\u001b[39;49m\u001b[43mto_dict\u001b[49m\u001b[43m(\u001b[49m\u001b[43m)\u001b[49m)\n\u001b[1;32m      2\u001b[0m df\u001b[38;5;241m.\u001b[39mhead()\n",
      "\u001b[0;31mPanicException\u001b[0m: No ideal gas model initialized!"
     ]
    }
   ],
   "source": [
    "df = pd.DataFrame(phase_diagram.to_dict())\n",
    "df.head()"
   ]
  },
  {
   "cell_type": "code",
   "execution_count": 8,
   "metadata": {},
   "outputs": [
    {
     "ename": "NameError",
     "evalue": "name 'df' is not defined",
     "output_type": "error",
     "traceback": [
      "\u001b[0;31m---------------------------------------------------------------------------\u001b[0m",
      "\u001b[0;31mNameError\u001b[0m                                 Traceback (most recent call last)",
      "Cell \u001b[0;32mIn[8], line 3\u001b[0m\n\u001b[1;32m      1\u001b[0m fig, ax \u001b[38;5;241m=\u001b[39m plt\u001b[38;5;241m.\u001b[39msubplots(\u001b[38;5;241m1\u001b[39m, \u001b[38;5;241m2\u001b[39m, figsize\u001b[38;5;241m=\u001b[39m(\u001b[38;5;241m15\u001b[39m, \u001b[38;5;241m6\u001b[39m))\n\u001b[1;32m      2\u001b[0m ax[\u001b[38;5;241m0\u001b[39m]\u001b[38;5;241m.\u001b[39mset_title(\u001b[38;5;124mf\u001b[39m\u001b[38;5;124m\"\u001b[39m\u001b[38;5;124msaturation pressure of \u001b[39m\u001b[38;5;132;01m{\u001b[39;00mparameters\u001b[38;5;241m.\u001b[39mpure_records[\u001b[38;5;241m0\u001b[39m]\u001b[38;5;241m.\u001b[39midentifier\u001b[38;5;241m.\u001b[39mname\u001b[38;5;132;01m}\u001b[39;00m\u001b[38;5;124m\"\u001b[39m)\n\u001b[0;32m----> 3\u001b[0m sns\u001b[38;5;241m.\u001b[39mlineplot(y\u001b[38;5;241m=\u001b[39m\u001b[43mdf\u001b[49m\u001b[38;5;241m.\u001b[39mpressure, x\u001b[38;5;241m=\u001b[39m\u001b[38;5;241m1.0\u001b[39m\u001b[38;5;241m/\u001b[39mdf\u001b[38;5;241m.\u001b[39mtemperature, ax\u001b[38;5;241m=\u001b[39max[\u001b[38;5;241m0\u001b[39m])\n\u001b[1;32m      5\u001b[0m \u001b[38;5;66;03m# axis and styling \u001b[39;00m\n\u001b[1;32m      6\u001b[0m ax[\u001b[38;5;241m0\u001b[39m]\u001b[38;5;241m.\u001b[39mset_yscale(\u001b[38;5;124m'\u001b[39m\u001b[38;5;124mlog\u001b[39m\u001b[38;5;124m'\u001b[39m)\n",
      "\u001b[0;31mNameError\u001b[0m: name 'df' is not defined"
     ]
    },
    {
     "data": {
      "image/png": "[encoded data removed]",
      "text/plain": [
       "<Figure size 1500x600 with 2 Axes>"
      ]
     },
     "metadata": {},
     "output_type": "display_data"
    }
   ],
   "source": [
    "fig, ax = plt.subplots(1, 2, figsize=(15, 6))\n",
    "ax[0].set_title(f\"saturation pressure of {parameters.pure_records[0].identifier.name}\")\n",
    "sns.lineplot(y=df.pressure, x=1.0/df.temperature, ax=ax[0])\n",
    "\n",
    "# axis and styling \n",
    "ax[0].set_yscale('log')\n",
    "ax[0].set_xlabel(r'$\\frac{1}{T}$ / K$^{-1}$');\n",
    "ax[0].set_ylabel(r'$p$ / Pa');\n",
    "ax[0].set_xlim(0.002, 0.005)\n",
    "ax[0].set_ylim(1e1, 1e7)\n",
    "\n",
    "ax[1].set_title(r\"$T$-$\\rho$-diagram of {}\".format(parameters.pure_records[0].identifier.name))\n",
    "sns.lineplot(y=df.temperature, x=df['density vapor'], ax=ax[1], color=colors[0])\n",
    "sns.lineplot(y=df.temperature, x=df['density liquid'], ax=ax[1], color=colors[0])\n",
    "\n",
    "# axis and styling \n",
    "ax[1].set_ylabel(r'$T$ / K');\n",
    "ax[1].set_xlabel(r'$\\rho$ / mol/m³');\n",
    "ax[1].set_ylim(200, 600)\n",
    "ax[1].set_xlim(0, 9000)\n",
    "\n",
    "sns.despine(offset=10)"
   ]
  },
  {
   "cell_type": "markdown",
   "metadata": {},
   "source": [
    "## The `PhaseEquilibrium` object\n",
    "\n",
    "A `PhaseEquilibrium` object contains two thermodynamic states (`State` objects) that are in thermal, mechanical and chemical equilibrium.\n",
    "The `PhaseEquilibrium.pure` constructor can be used to compute a phase equilibrium for a single substance. We have to provide the equation of state and either temperature or pressure. Optionally, we can also provide `PhaseEquilibrium` object which can be used as starting point for the calculation which possibly speeds up the computation."
   ]
  },
  {
   "cell_type": "code",
   "execution_count": 10,
   "metadata": {},
   "outputs": [
    {
     "data": {
      "text/markdown": [
       "||temperature|density|\n",
       "|-|-|-|\n",
       "|phase 1|300.00000 K|8.86860  mol/m³|\n",
       "|phase 2|300.00000 K|7.51850 kmol/m³|\n"
      ],
      "text/plain": [
       "phase 0: T = 300.00000 K, ρ = 8.86860  mol/m³\n",
       "phase 1: T = 300.00000 K, ρ = 7.51850 kmol/m³"
      ]
     },
     "execution_count": 10,
     "metadata": {},
     "output_type": "execute_result"
    }
   ],
   "source": [
    "vle = PhaseEquilibrium.pure(\n",
    "    pcsaft, \n",
    "    temperature_or_pressure=300.0*KELVIN\n",
    ")\n",
    "vle"
   ]
  },
  {
   "cell_type": "markdown",
   "metadata": {},
   "source": [
    "The two equilibrium states can be extracted via the `liquid` and `vapor` getters, respectively. Returned are `State` objects, for which we can now compute any property that is available for the `State` object and the given equation of state."
   ]
  },
  {
   "cell_type": "code",
   "execution_count": 11,
   "metadata": {},
   "outputs": [
    {
     "name": "stdout",
     "output_type": "stream",
     "text": [
      "saturation pressure      p_sat(T = 300 K) =   0.22 bar\n",
      "enthalpy of vaporization h_lv (T = 300 K) = 365.83 kJ/kg\n"
     ]
    }
   ],
   "source": [
    "liquid = vle.liquid\n",
    "vapor = vle.vapor\n",
    "\n",
    "assert(abs((liquid.pressure() - vapor.pressure()) / BAR) < 1e-10)\n",
    "print(f'saturation pressure      p_sat(T = {liquid.temperature}) = {liquid.pressure() / BAR:6.2f} bar')\n",
    "print(f'enthalpy of vaporization h_lv (T = {liquid.temperature}) = {(vapor.specific_enthalpy() - liquid.specific_enthalpy()) / (KILO*JOULE/KILOGRAM):6.2f} kJ/kg')"
   ]
  },
  {
   "cell_type": "markdown",
   "metadata": {},
   "source": [
    "If you want to compute a boiling temperature or saturation pressure without needing the `PhaseEquilibrium` object you can use the\n",
    "\n",
    "- `PhaseEquilibrium.boiling_temperature` and\n",
    "- `PhaseEquilibrium.vapor_pressure`\n",
    "\n",
    "methods. Note that these methods return lists (even for pure substance systems) where each entry contains the pure substance property."
   ]
  },
  {
   "cell_type": "code",
   "execution_count": 12,
   "metadata": {},
   "outputs": [
    {
     "data": {
      "text/latex": [
       "$300\\,\\mathrm{K}$"
      ],
      "text/plain": [
       "299.99999999998977 K"
      ]
     },
     "execution_count": 12,
     "metadata": {},
     "output_type": "execute_result"
    }
   ],
   "source": [
    "PhaseEquilibrium.boiling_temperature(pcsaft, liquid.pressure())[0]"
   ]
  },
  {
   "cell_type": "markdown",
   "metadata": {},
   "source": [
    "## The `states` method returns all `PhaseEquilibrium` objects from `PhaseDiagram`\n",
    "\n",
    "Once a `PhaseDiagram` object is created, we can access all underlying `PhaseEquilibrium` objects via the `states` field.\n",
    "In the following cell, we compute the enthalpy of vaporization by iterating through all states and calling the `specific_enthalpy` method on the vapor and liquid states of the `PhaseEquilibrium` object, respectively.\n",
    "\n",
    "Note that this is merely an example to show how to compute any property of the states. The total value of enthalpy of vaporization may not be correct, depending on the ideal gas model used."
   ]
  },
  {
   "cell_type": "code",
   "execution_count": 13,
   "metadata": {},
   "outputs": [],
   "source": [
    "# Add enthalpy of vaporization to dataframe\n",
    "df['hlv'] = [\n",
    "    (vle.vapor.specific_enthalpy() - vle.liquid.specific_enthalpy()) \n",
    "    / (KILO * JOULE / KILOGRAM) \n",
    "    for vle in phase_diagram.states\n",
    "]"
   ]
  },
  {
   "cell_type": "code",
   "execution_count": 14,
   "metadata": {},
   "outputs": [
    {
     "data": {
      "image/png": "[encoded data removed]",
      "text/plain": [
       "<Figure size 504x432 with 1 Axes>"
      ]
     },
     "metadata": {},
     "output_type": "display_data"
    }
   ],
   "source": [
    "fig, ax = plt.subplots(figsize=(7, 6))\n",
    "sns.lineplot(y=df.hlv, x=df.temperature, ax=ax)\n",
    "\n",
    "# axis and styling \n",
    "ax.set_xlabel(r'$T$ / K');\n",
    "ax.set_ylabel(r'$\\Delta_{LV} h$ / kJ / kg');\n",
    "ax.set_xlim(200, 600)\n",
    "ax.set_ylim(0, 500)\n",
    "\n",
    "sns.despine(offset=10);"
   ]
  }
 ],
 "metadata": {
  "kernelspec": {
   "display_name": "uvchain_mixtures",
   "language": "python",
   "name": "uvchain_mixtures"
  },
  "language_info": {
   "codemirror_mode": {
    "name": "ipython",
    "version": 3
   },
   "file_extension": ".py",
   "mimetype": "text/x-python",
   "name": "python",
   "nbconvert_exporter": "python",
   "pygments_lexer": "ipython3",
   "version": "3.8.5"
  }
 },
 "nbformat": 4,
 "nbformat_minor": 4
}
