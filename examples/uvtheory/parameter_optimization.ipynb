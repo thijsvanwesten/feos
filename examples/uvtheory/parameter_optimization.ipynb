{
 "cells": [
  {
   "cell_type": "code",
   "execution_count": 1,
   "id": "25a05527",
   "metadata": {},
   "outputs": [],
   "source": [
    "from feos import EquationOfState, State, PhaseEquilibrium, Verbosity\n",
    "from feos.parameters import PureRecord, Identifier, Parameters\n",
    "from scipy.optimize import least_squares\n",
    "import si_units as si\n",
    "import pandas as pd\n",
    "import numpy as np"
   ]
  },
  {
   "cell_type": "code",
   "execution_count": 2,
   "id": "4ccca000",
   "metadata": {},
   "outputs": [],
   "source": [
    "liquid_density = pd.read_csv(\"hexane_liquid_density.csv\")\n",
    "vapor_pressure = pd.read_csv(\"hexane_vapor_pressure.csv\")"
   ]
  },
  {
   "cell_type": "code",
   "execution_count": 3,
   "id": "c87e3bb4",
   "metadata": {},
   "outputs": [
    {
     "data": {
      "text/plain": [
       "si_units._core.SIObject"
      ]
     },
     "execution_count": 3,
     "metadata": {},
     "output_type": "execute_result"
    }
   ],
   "source": [
    "type(liquid_density[\"temperature / K\"].values * si.KELVIN)"
   ]
  },
  {
   "cell_type": "code",
   "execution_count": 4,
   "id": "914ff613",
   "metadata": {},
   "outputs": [],
   "source": [
    "def liquid_density_cost(\n",
    "    model: EquationOfState,\n",
    "    data: pd.DataFrame,\n",
    ") -> np.ndarray:\n",
    "    cost = []\n",
    "    for i, row in data.iterrows():\n",
    "        try:\n",
    "            s = State(\n",
    "                model,\n",
    "                temperature=row[\"temperature / K\"] * si.KELVIN,\n",
    "                pressure=row[\"pressure / bar\"] * si.BAR,\n",
    "                density_initialization=\"liquid\",\n",
    "            )\n",
    "            target = row[\"density / kg/m3\"]\n",
    "            prediction = s.mass_density() / (si.KILOGRAM / si.METER**3)\n",
    "            res = (prediction - target) / target\n",
    "            cost.append(res)\n",
    "        except Exception as _:\n",
    "            cost.append(10)\n",
    "    return np.array(cost)\n",
    "\n",
    "\n",
    "def vapor_pressure_cost(\n",
    "    model: EquationOfState,\n",
    "    data: pd.DataFrame,\n",
    ") -> np.ndarray:\n",
    "    cost = []\n",
    "    for i, row in data.iterrows():\n",
    "        target = row[\"vapor_pressure / bar\"]\n",
    "        try:\n",
    "            prediction = (\n",
    "                PhaseEquilibrium.pure(\n",
    "                    model, row[\"temperature / K\"] * si.KELVIN\n",
    "                ).vapor.pressure()\n",
    "                / si.BAR\n",
    "            )\n",
    "            res = (prediction - target) / target\n",
    "            cost.append(res)\n",
    "        except Exception as _:\n",
    "            cost.append(10)\n",
    "    return np.array(cost)\n"
   ]
  },
  {
   "cell_type": "code",
   "execution_count": 6,
   "id": "742bc1b1",
   "metadata": {},
   "outputs": [],
   "source": [
    "# define things that are constant during optimization\n",
    "identifier = Identifier(\n",
    "    cas=\"110-54-3\",\n",
    "    name=\"hexane\",\n",
    "    iupac_name=\"hexane\",\n",
    "    smiles=\"CCCCCC\",\n",
    "    inchi=\"InChI=1/C6H14/c1-3-5-6-4-2/h3-6H2,1-2H3\",\n",
    "    formula=\"C6H14\",\n",
    ")\n",
    "molarweight = 86.177  # g / mol\n",
    "uvtheory_options = {\n",
    "    \"max_eta\": 0.5,\n",
    "    \"perturbation\": \"WCA_TPT\",\n",
    "    \"combination_rule\": \"one_fluid_psi\",\n",
    "    \"chain_contribution\": \"tpt1y\",\n",
    "}\n",
    "\n",
    "\n",
    "def eos_from_parameters(p):\n",
    "    \"\"\"Returns equation of state (PC-SAFT) for current parameters.\"\"\"\n",
    "    global identifier, molarweight\n",
    "    if len(p) == 3:\n",
    "        m, sigma, epsilon_k = p\n",
    "        rep = 12\n",
    "    elif len(p) == 4: \n",
    "        m, rep, sigma, epsilon_k = p\n",
    "    pr = PureRecord(\n",
    "        identifier,\n",
    "        molarweight,\n",
    "        m=m,\n",
    "        rep=rep,\n",
    "        att=6.0,\n",
    "        sigma=sigma,\n",
    "        epsilon_k=epsilon_k,\n",
    "    )\n",
    "    parameters = Parameters.new_pure(pr)\n",
    "    return EquationOfState.uvtheory(parameters, **uvtheory_options)\n",
    "\n",
    "\n",
    "def cost(p, liquid_density_data, vapor_pressure_data):\n",
    "    \"\"\"Calculates cost function for current parameters.\"\"\"\n",
    "    model = eos_from_parameters(p)\n",
    "    cost = np.concatenate(\n",
    "        [\n",
    "            liquid_density_cost(model, liquid_density_data),\n",
    "            vapor_pressure_cost(model, vapor_pressure_data),\n",
    "        ]\n",
    "    )\n",
    "    return cost"
   ]
  },
  {
   "cell_type": "code",
   "execution_count": 7,
   "id": "98967b5e",
   "metadata": {},
   "outputs": [
    {
     "name": "stdout",
     "output_type": "stream",
     "text": [
      "   Iteration     Total nfev        Cost      Cost reduction    Step norm     Optimality   \n",
      "       0              1         3.4259e+01                                    1.79e+02    \n",
      "       1              3         2.4750e+01      9.51e+00       2.83e+01       1.81e+00    \n",
      "       2              4         2.3374e+01      1.38e+00       2.21e+00       4.29e+00    \n",
      "       3              5         2.3102e+01      2.72e-01       3.90e+00       1.26e+02    \n",
      "       4              6         1.5335e+01      7.77e+00       1.01e+00       1.51e+01    \n",
      "       5              8         1.3994e+01      1.34e+00       1.63e-01       1.48e+01    \n",
      "       6              9         1.3205e+01      7.89e-01       3.18e-01       4.15e+01    \n",
      "       7             10         1.2714e+01      4.91e-01       2.72e+00       4.31e+00    \n",
      "       8             11         1.2555e+01      1.59e-01       5.21e+00       1.95e+00    \n",
      "       9             12         1.1455e+01      1.10e+00       5.48e+00       1.93e+01    \n",
      "      10             13         2.0874e+00      9.37e+00       6.64e+00       2.64e+01    \n",
      "      11             14         1.7194e+00      3.68e-01       2.24e+01       6.39e+01    \n",
      "      12             15         1.0053e+00      7.14e-01       1.99e+01       9.01e+01    \n",
      "      13             16         7.0604e-01      2.99e-01       7.33e+00       2.21e+01    \n",
      "      14             17         6.0022e-01      1.06e-01       7.48e-01       1.35e+01    \n",
      "      15             18         5.9380e-01      6.42e-03       1.46e-01       1.67e-01    \n",
      "      16             19         5.9379e-01      5.30e-06       2.33e-04       8.11e-05    \n",
      "      17             20         5.9379e-01      9.97e-11       2.49e-04       8.44e-07    \n",
      "`ftol` termination condition is satisfied.\n",
      "Function evaluations 20, initial cost 3.4259e+01, final cost 5.9379e-01, first-order optimality 8.44e-07.\n",
      "CPU times: user 1.75 s, sys: 18.8 ms, total: 1.77 s\n",
      "Wall time: 1.77 s\n"
     ]
    }
   ],
   "source": [
    "%%time\n",
    "# initial_parameters = [3.0, 12.0, 2.0, 300.0]  # m, rep, sigma, epsilon_k\n",
    "# bounds = (\n",
    "#     [2.0, 12.0, 2.0, 150.0],\n",
    "#     [8.0, 14.0, 10.0, 500.0],\n",
    "# )  # ([lower bounds], [upper bounds])\n",
    "\n",
    "initial_parameters = [3.0, 3.0, 350.0]  # m, sigma, epsilon_k\n",
    "bounds = (\n",
    "    [2.0, 2.0, 150.0],\n",
    "    [8.0, 8.0, 500.0],\n",
    ")  # ([lower bounds], [upper bounds])\n",
    "\n",
    "fitted_parameters = least_squares(\n",
    "    cost,\n",
    "    initial_parameters,\n",
    "    bounds=bounds,\n",
    "    loss='huber',\n",
    "    f_scale=0.05,\n",
    "    args=(\n",
    "        liquid_density,\n",
    "        vapor_pressure,\n",
    "    ),\n",
    "    verbose=2,\n",
    ").x"
   ]
  },
  {
   "cell_type": "code",
   "execution_count": 8,
   "id": "bae29717",
   "metadata": {},
   "outputs": [
    {
     "data": {
      "text/plain": [
       "array([  2.9013988 ,   3.88041088, 253.49667306])"
      ]
     },
     "execution_count": 8,
     "metadata": {},
     "output_type": "execute_result"
    }
   ],
   "source": [
    "fitted_parameters"
   ]
  },
  {
   "cell_type": "code",
   "execution_count": 9,
   "id": "371996b0",
   "metadata": {},
   "outputs": [
    {
     "name": "stdout",
     "output_type": "stream",
     "text": [
      "MARD rho_liq: 1.12 %\n",
      "MARD p_sat. : 6.37 %\n"
     ]
    }
   ],
   "source": [
    "model = eos_from_parameters(fitted_parameters)\n",
    "print(\n",
    "    f\"MARD rho_liq: {np.mean(np.abs(liquid_density_cost(model, liquid_density))) * 100:.2f} %\"\n",
    ")\n",
    "print(\n",
    "    f\"MARD p_sat. : {np.mean(np.abs(vapor_pressure_cost(model, vapor_pressure))) * 100:.2f} %\"\n",
    ")"
   ]
  },
  {
   "cell_type": "code",
   "execution_count": 10,
   "id": "ea67ee15",
   "metadata": {},
   "outputs": [
    {
     "data": {
      "text/markdown": [
       "|temperature|density|\n",
       "|-|-|\n",
       "|523.44756 K|2.29457 kmol/m³|"
      ],
      "text/plain": [
       "T = 523.44756 K, ρ = 2.29457 kmol/m³"
      ]
     },
     "execution_count": 10,
     "metadata": {},
     "output_type": "execute_result"
    }
   ],
   "source": [
    "State.critical_point(model)"
   ]
  },
  {
   "cell_type": "code",
   "execution_count": null,
   "id": "8448ca80",
   "metadata": {},
   "outputs": [],
   "source": []
  }
 ],
 "metadata": {
  "kernelspec": {
   "display_name": ".venv",
   "language": "python",
   "name": "python3"
  },
  "language_info": {
   "codemirror_mode": {
    "name": "ipython",
    "version": 3
   },
   "file_extension": ".py",
   "mimetype": "text/x-python",
   "name": "python",
   "nbconvert_exporter": "python",
   "pygments_lexer": "ipython3",
   "version": "3.12.3"
  }
 },
 "nbformat": 4,
 "nbformat_minor": 5
}
