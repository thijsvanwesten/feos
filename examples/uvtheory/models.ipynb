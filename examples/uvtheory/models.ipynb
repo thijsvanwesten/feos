{
 "cells": [
  {
   "cell_type": "code",
   "execution_count": null,
   "id": "b9ddcde7",
   "metadata": {},
   "outputs": [],
   "source": []
  },
  {
   "cell_type": "code",
   "execution_count": null,
   "id": "09feece4",
   "metadata": {},
   "outputs": [
    {
     "name": "stdout",
     "output_type": "stream",
     "text": [
      "Hard Sphere (WCA, TPT)        :  13.56\n",
      "Mie Chain                     :  -2.54\n",
      "Reference Perturbation (WCA)  :   0.76\n",
      "Attractive Perturbation (WCA) : -10.85\n"
     ]
    }
   ],
   "source": [
    "from feos import EquationOfState, State, Contributions\n",
    "from feos.parameters import Parameters, PureRecord, Identifier\n",
    "import si_units as si\n",
    "\n",
    "pr = PureRecord(\n",
    "    identifier=Identifier(), \n",
    "    molarweight=1.0, \n",
    "    m=5.0, rep=24.0, att=6.0, sigma=1.0, epsilon_k=1.0\n",
    ")\n",
    "parameters = Parameters.new_pure(pr)\n",
    "model = EquationOfState.uvtheory(\n",
    "    parameters,\n",
    "    perturbation=\"WCA_TPT\",\n",
    "    combination_rule=\"one_fluid_psi\",\n",
    "    chain_contribution=\"tpt1y\"\n",
    ")\n",
    "\n",
    "reduced_density = 0.15\n",
    "density = 0.15 / si.ANGSTROM**3 / si.NAV\n",
    "temperature=2.0 * si.KELVIN\n",
    "state = State(model, temperature=temperature, density=density)\n",
    "\n",
    "assert (\n",
    "    abs(\n",
    "        state.molar_helmholtz_energy(Contributions.Residual)\n",
    "        / (si.RGAS * temperature)\n",
    "        - 0.93410937628984314\n",
    "    )\n",
    "    / 0.93410937628984314\n",
    "    < 1e-8\n",
    ")\n",
    "\n",
    "for n, c in state.residual_molar_helmholtz_energy_contributions():\n",
    "    print(f\"{n:<30}: {c / (si.RGAS * temperature):>6.2f}\")"
   ]
  }
 ],
 "metadata": {
  "kernelspec": {
   "display_name": ".venv",
   "language": "python",
   "name": "python3"
  },
  "language_info": {
   "codemirror_mode": {
    "name": "ipython",
    "version": 3
   },
   "file_extension": ".py",
   "mimetype": "text/x-python",
   "name": "python",
   "nbconvert_exporter": "python",
   "pygments_lexer": "ipython3",
   "version": "3.12.3"
  }
 },
 "nbformat": 4,
 "nbformat_minor": 5
}
